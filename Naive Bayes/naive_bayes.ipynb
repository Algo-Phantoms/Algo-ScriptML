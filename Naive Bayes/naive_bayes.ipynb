{
 "cells": [
  {
   "cell_type": "markdown",
   "metadata": {},
   "source": [
    "# Python Implementation of Naive Bayes "
   ]
  },
  {
   "cell_type": "code",
   "execution_count": 65,
   "metadata": {},
   "outputs": [],
   "source": [
    "import pandas as pd\n"
   ]
  },
  {
   "cell_type": "markdown",
   "metadata": {},
   "source": [
    "# custom Dataset for classification"
   ]
  },
  {
   "cell_type": "code",
   "execution_count": 66,
   "metadata": {},
   "outputs": [
    {
     "data": {
      "text/html": [
       "<div>\n",
       "<style scoped>\n",
       "    .dataframe tbody tr th:only-of-type {\n",
       "        vertical-align: middle;\n",
       "    }\n",
       "\n",
       "    .dataframe tbody tr th {\n",
       "        vertical-align: top;\n",
       "    }\n",
       "\n",
       "    .dataframe thead th {\n",
       "        text-align: right;\n",
       "    }\n",
       "</style>\n",
       "<table border=\"1\" class=\"dataframe\">\n",
       "  <thead>\n",
       "    <tr style=\"text-align: right;\">\n",
       "      <th></th>\n",
       "      <th>Age</th>\n",
       "      <th>Income</th>\n",
       "      <th>Student</th>\n",
       "      <th>Credit Rating</th>\n",
       "      <th>Buys Computer</th>\n",
       "    </tr>\n",
       "  </thead>\n",
       "  <tbody>\n",
       "    <tr>\n",
       "      <th>0</th>\n",
       "      <td>&lt;=30</td>\n",
       "      <td>high</td>\n",
       "      <td>no</td>\n",
       "      <td>fair</td>\n",
       "      <td>no</td>\n",
       "    </tr>\n",
       "    <tr>\n",
       "      <th>1</th>\n",
       "      <td>&lt;=30</td>\n",
       "      <td>high</td>\n",
       "      <td>no</td>\n",
       "      <td>excellent</td>\n",
       "      <td>no</td>\n",
       "    </tr>\n",
       "    <tr>\n",
       "      <th>2</th>\n",
       "      <td>31-40</td>\n",
       "      <td>high</td>\n",
       "      <td>no</td>\n",
       "      <td>fair</td>\n",
       "      <td>yes</td>\n",
       "    </tr>\n",
       "    <tr>\n",
       "      <th>3</th>\n",
       "      <td>&gt;40</td>\n",
       "      <td>medium</td>\n",
       "      <td>no</td>\n",
       "      <td>fair</td>\n",
       "      <td>yes</td>\n",
       "    </tr>\n",
       "    <tr>\n",
       "      <th>4</th>\n",
       "      <td>&gt;40</td>\n",
       "      <td>low</td>\n",
       "      <td>yes</td>\n",
       "      <td>fair</td>\n",
       "      <td>yes</td>\n",
       "    </tr>\n",
       "    <tr>\n",
       "      <th>5</th>\n",
       "      <td>&gt;40</td>\n",
       "      <td>low</td>\n",
       "      <td>yes</td>\n",
       "      <td>excellent</td>\n",
       "      <td>no</td>\n",
       "    </tr>\n",
       "    <tr>\n",
       "      <th>6</th>\n",
       "      <td>31-40</td>\n",
       "      <td>low</td>\n",
       "      <td>yes</td>\n",
       "      <td>excellent</td>\n",
       "      <td>yes</td>\n",
       "    </tr>\n",
       "    <tr>\n",
       "      <th>7</th>\n",
       "      <td>&lt;=30</td>\n",
       "      <td>medium</td>\n",
       "      <td>no</td>\n",
       "      <td>fair</td>\n",
       "      <td>no</td>\n",
       "    </tr>\n",
       "    <tr>\n",
       "      <th>8</th>\n",
       "      <td>&lt;=30</td>\n",
       "      <td>low</td>\n",
       "      <td>yes</td>\n",
       "      <td>fair</td>\n",
       "      <td>yes</td>\n",
       "    </tr>\n",
       "    <tr>\n",
       "      <th>9</th>\n",
       "      <td>&gt;40</td>\n",
       "      <td>medium</td>\n",
       "      <td>yes</td>\n",
       "      <td>fair</td>\n",
       "      <td>yes</td>\n",
       "    </tr>\n",
       "    <tr>\n",
       "      <th>10</th>\n",
       "      <td>&lt;=30</td>\n",
       "      <td>medium</td>\n",
       "      <td>yes</td>\n",
       "      <td>excellent</td>\n",
       "      <td>yes</td>\n",
       "    </tr>\n",
       "    <tr>\n",
       "      <th>11</th>\n",
       "      <td>31-40</td>\n",
       "      <td>medium</td>\n",
       "      <td>no</td>\n",
       "      <td>excellent</td>\n",
       "      <td>yes</td>\n",
       "    </tr>\n",
       "    <tr>\n",
       "      <th>12</th>\n",
       "      <td>31-40</td>\n",
       "      <td>high</td>\n",
       "      <td>yes</td>\n",
       "      <td>fair</td>\n",
       "      <td>yes</td>\n",
       "    </tr>\n",
       "    <tr>\n",
       "      <th>13</th>\n",
       "      <td>&gt;40</td>\n",
       "      <td>medium</td>\n",
       "      <td>no</td>\n",
       "      <td>excellent</td>\n",
       "      <td>no</td>\n",
       "    </tr>\n",
       "  </tbody>\n",
       "</table>\n",
       "</div>"
      ],
      "text/plain": [
       "      Age  Income Student Credit Rating Buys Computer\n",
       "0    <=30    high      no          fair            no\n",
       "1    <=30    high      no     excellent            no\n",
       "2   31-40    high      no          fair           yes\n",
       "3     >40  medium      no          fair           yes\n",
       "4     >40     low     yes          fair           yes\n",
       "5     >40     low     yes     excellent            no\n",
       "6   31-40     low     yes     excellent           yes\n",
       "7    <=30  medium      no          fair            no\n",
       "8    <=30     low     yes          fair           yes\n",
       "9     >40  medium     yes          fair           yes\n",
       "10   <=30  medium     yes     excellent           yes\n",
       "11  31-40  medium      no     excellent           yes\n",
       "12  31-40    high     yes          fair           yes\n",
       "13    >40  medium      no     excellent            no"
      ]
     },
     "execution_count": 66,
     "metadata": {},
     "output_type": "execute_result"
    }
   ],
   "source": [
    "#custom dataset credit rating where Buys computer is the class\n",
    "df = pd.read_csv(\"credit_rating.csv\")\n",
    "df"
   ]
  },
  {
   "cell_type": "markdown",
   "metadata": {},
   "source": [
    "# Considering the columns that are required\n"
   ]
  },
  {
   "cell_type": "code",
   "execution_count": 67,
   "metadata": {},
   "outputs": [
    {
     "name": "stdout",
     "output_type": "stream",
     "text": [
      "['Age', 'Income', 'Student', 'Credit Rating', 'Buys Computer']\n"
     ]
    }
   ],
   "source": [
    "#Taking the columns that are required\n",
    "col = []\n",
    "for column in df.columns:\n",
    "    col.append(column)\n",
    "print(col)\n",
    "l = len(col)-1\n",
    "#print(l)"
   ]
  },
  {
   "cell_type": "markdown",
   "metadata": {},
   "source": [
    "# Inputting the unknown samples for classification"
   ]
  },
  {
   "cell_type": "code",
   "execution_count": 68,
   "metadata": {},
   "outputs": [
    {
     "name": "stdout",
     "output_type": "stream",
     "text": [
      "Enter values of the attribute for the unknown samples that you want to classify:\n",
      "Age:<=30\n",
      "Income:high\n",
      "Student:yes\n",
      "Credit Rating:fair\n",
      "['<=30', 'high', 'yes', 'fair']\n"
     ]
    }
   ],
   "source": [
    "val = []\n",
    "print(\"Enter values of the attribute for the unknown samples that you want to classify:\")\n",
    "for i in range(0,l):\n",
    "    v = input(col[i]+\":\")\n",
    "    val.append(v)\n",
    "print(val)"
   ]
  },
  {
   "attachments": {
    "image.png": {
     "image/png": "[encoded data removed]"
    }
   },
   "cell_type": "markdown",
   "metadata": {},
   "source": [
    "# Analysing the hypothesis and calculating the probabilities of each class\n",
    "![image.png](attachment:image.png)"
   ]
  },
  {
   "cell_type": "code",
   "execution_count": 69,
   "metadata": {},
   "outputs": [
    {
     "name": "stdout",
     "output_type": "stream",
     "text": [
      "Step 1: No of Classes (Hypothesis) : ['no', 'yes']\n",
      " No of [no,yes]  = [5, 9]\n",
      "calculating class prior probabilites  [P(C1),P(C2)] = [0.35714285714285715, 0.6428571428571429]\n"
     ]
    }
   ],
   "source": [
    "## Analysing the hypothesis and calculating the probabilities of each class\n",
    "# Here,\"Buys Computer\" is the target wherein the data is classified as \"no\" and \"yes\" which is represented as C1 and C2 respectively\n",
    "classes = []\n",
    "prob = []\n",
    "value = []\n",
    "a = col[l]\n",
    "p = df.groupby(a).size()\n",
    "\n",
    "for i in p.index:\n",
    "    classes.append(i)\n",
    "    \n",
    "for i in p:\n",
    "    value.append(i)\n",
    "    i=i/len(df)\n",
    "    prob.append(i)\n",
    "    pin = i\n",
    "\n",
    "print(\"Step 1: No of Classes (Hypothesis) :\", classes)\n",
    "print(\" No of [no,yes]  =\", value)\n",
    "print(\"calculating class prior probabilites  [P(C1),P(C2)] =\", prob)"
   ]
  },
  {
   "cell_type": "code",
   "execution_count": 70,
   "metadata": {},
   "outputs": [
    {
     "data": {
      "text/plain": [
       "[0.35714285714285715, 0.6428571428571429]"
      ]
     },
     "execution_count": 70,
     "metadata": {},
     "output_type": "execute_result"
    }
   ],
   "source": [
    "prob"
   ]
  },
  {
   "cell_type": "markdown",
   "metadata": {},
   "source": [
    "# Calculating P(X/Ci) for classes"
   ]
  },
  {
   "cell_type": "code",
   "execution_count": 71,
   "metadata": {},
   "outputs": [
    {
     "name": "stdout",
     "output_type": "stream",
     "text": [
      "Attribute values of unknown sample:  ['<=30', 'high', 'yes', 'fair'] \n",
      " Yes: [2, 2, 6, 6] \n",
      " NO: [3, 2, 1, 2] \n",
      "Total (C): [5, 4, 7, 8]\n"
     ]
    }
   ],
   "source": [
    "## Calculating P(X/Ci) for each class \n",
    "c = []\n",
    "count_n = []\n",
    "count_y = []\n",
    "b = df[col[l]].values\n",
    "\n",
    "for i in df:\n",
    "    if i==col[l]:\n",
    "        break\n",
    "    a = df[i].values\n",
    "    #print(a)\n",
    "    count = 0\n",
    "    countn = 0\n",
    "    for k in val:\n",
    "        q=0\n",
    "        for j in a:\n",
    "            q = q+1\n",
    "            if k==j:\n",
    "                count=count+1\n",
    "                if b[q-1]==classes[0]:\n",
    "                    countn = countn+1\n",
    "    count_y.append(count-countn)\n",
    "    count_n.append(countn)\n",
    "    c.append(count)\n",
    "        \n",
    "print(\"Attribute values of unknown sample: \", val, \"\\n Yes:\",count_y, \"\\n NO:\",count_n, \"\\nTotal (C):\", c)\n",
    "    "
   ]
  },
  {
   "cell_type": "code",
   "execution_count": 72,
   "metadata": {},
   "outputs": [
    {
     "name": "stdout",
     "output_type": "stream",
     "text": [
      "P(X/C1), P(X/C2) : [0.019200000000000002, 0.021947873799725647]\n"
     ]
    }
   ],
   "source": [
    "p1 = 1\n",
    "p2 = 1\n",
    "p =[]\n",
    "\n",
    "for i in count_n:\n",
    "    p1 = p1*(i/int(value[0]))\n",
    "p.append(p1)\n",
    "\n",
    "\n",
    "for i in count_y:\n",
    "    p2 = p2*(i/int(value[1]))\n",
    "p.append(p2)\n",
    "\n",
    "print(\"P(X/C1), P(X/C2) :\",p)\n",
    "\n",
    "ans = []\n",
    "for i in range(len(prob)):\n",
    "    for j in range(len(p)):\n",
    "        if i==j:\n",
    "            ans.append(prob[i]*p[j])\n"
   ]
  },
  {
   "cell_type": "code",
   "execution_count": 73,
   "metadata": {},
   "outputs": [
    {
     "data": {
      "text/plain": [
       "0.019200000000000002"
      ]
     },
     "execution_count": 73,
     "metadata": {},
     "output_type": "execute_result"
    }
   ],
   "source": [
    "p1"
   ]
  },
  {
   "cell_type": "markdown",
   "metadata": {},
   "source": [
    "# Calculating posterior probability\n"
   ]
  },
  {
   "cell_type": "code",
   "execution_count": 74,
   "metadata": {},
   "outputs": [
    {
     "name": "stdout",
     "output_type": "stream",
     "text": [
      "P(C1/X) = 0.019200000000000002 * 0.35714285714285715 = 0.006857142857142858 \n",
      "P(C2/X) = 0.021947873799725647 * 0.6428571428571429 = 0.014109347442680773 \n"
     ]
    }
   ],
   "source": [
    "#calculating posterior probability\n",
    "ans1 = p1*prob[0]\n",
    "ans2 = p2*prob[1]\n",
    "print(\"P(C1/X) = {} * {} = {} \".format(p1,prob[0],ans1))\n",
    "print(\"P(C2/X) = {} * {} = {} \".format(p2,prob[1],ans2))"
   ]
  },
  {
   "cell_type": "markdown",
   "metadata": {},
   "source": [
    "# Classifying unknown samples"
   ]
  },
  {
   "cell_type": "code",
   "execution_count": 75,
   "metadata": {},
   "outputs": [
    {
     "name": "stdout",
     "output_type": "stream",
     "text": [
      "['no', 'yes']\n",
      "Conclusion: Since P(X) is constant and common for both the classes = ['no', 'yes'] and the maximum posterior is P(C2/X) = 0.014109347442680773.Hence unknown sample gets classified as yes \n"
     ]
    }
   ],
   "source": [
    "#conclusion\n",
    "print(classes)\n",
    "if(ans1>ans2):\n",
    "    print(\"Conclusion: Since P(X) is constant and common for both the classes = {} and the maximum posterior is P(C1/X) = {}.Hence unknown sample gets classified as no \".format(classes,ans1))\n",
    "else:\n",
    "    print(\"Conclusion: Since P(X) is constant and common for both the classes = {} and the maximum posterior is P(C2/X) = {}.Hence unknown sample gets classified as yes \".format(classes,ans2))\n",
    "\n",
    "    "
   ]
  },
  {
   "cell_type": "code",
   "execution_count": null,
   "metadata": {},
   "outputs": [],
   "source": []
  }
 ],
 "metadata": {
  "kernelspec": {
   "display_name": "Python 3",
   "language": "python",
   "name": "python3"
  },
  "language_info": {
   "codemirror_mode": {
    "name": "ipython",
    "version": 3
   },
   "file_extension": ".py",
   "mimetype": "text/x-python",
   "name": "python",
   "nbconvert_exporter": "python",
   "pygments_lexer": "ipython3",
   "version": "3.8.6"
  }
 },
 "nbformat": 4,
 "nbformat_minor": 4
}
